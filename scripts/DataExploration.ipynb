{
 "cells": [
  {
   "cell_type": "markdown",
   "metadata": {},
   "source": [
    "# Data Exploration\n",
    "\n",
    "## Sidney Cannon-Bailey\n",
    "## 11/11/2020"
   ]
  },
  {
   "cell_type": "code",
   "execution_count": 1,
   "metadata": {},
   "outputs": [],
   "source": [
    "# import libraries\n",
    "import pandas as pd\n",
    "import matplotlib.pyplot as plt\n",
    "from sklearn.preprocessing import MinMaxScaler\n",
    "from sklearn.model_selection import train_test_split\n",
    "\n",
    "from sklearn.linear_model import LogisticRegression"
   ]
  },
  {
   "cell_type": "code",
   "execution_count": 2,
   "metadata": {},
   "outputs": [],
   "source": [
    "# set current path\n",
    "# set file location on your local machine\n",
    "dataLoc = '../data/dataWithFeatures.csv'"
   ]
  },
  {
   "cell_type": "code",
   "execution_count": 3,
   "metadata": {},
   "outputs": [],
   "source": [
    "# load dataset\n",
    "df = pd.read_csv(dataLoc)"
   ]
  },
  {
   "cell_type": "code",
   "execution_count": 4,
   "metadata": {},
   "outputs": [
    {
     "data": {
      "text/plain": [
       "Zip Code           0\n",
       "Confirmed Cases    2\n",
       "ZIP                0\n",
       "PlaceName          0\n",
       "BINGE              0\n",
       "CSMOKING           0\n",
       "LPA                0\n",
       "OBESITY            0\n",
       "SLEEP              0\n",
       "ARTHRITIS          0\n",
       "CASTHMA            0\n",
       "BPHIGH             0\n",
       "CANCER             0\n",
       "HIGHCHOL           0\n",
       "KIDNEY             0\n",
       "COPD               0\n",
       "CHD                0\n",
       "DIABETES           0\n",
       "MHLTH              0\n",
       "PHLTH              0\n",
       "TEETHLOST          0\n",
       "STROKE             0\n",
       "ACCESS2            0\n",
       "CHECKUP            0\n",
       "DENTAL             0\n",
       "BPMED              0\n",
       "CHOLSCREEN         0\n",
       "MAMMOUSE           0\n",
       "PAPTEST            0\n",
       "COLON_SCREEN       0\n",
       "COREM              0\n",
       "COREW              0\n",
       "totalPop           3\n",
       "whiteAlonePop      3\n",
       "blackAlonePop      3\n",
       "nativeAlonePop     3\n",
       "asianAlonePop      3\n",
       "hawaiiAlonePop     3\n",
       "otherAlonePop      3\n",
       "twoOrMorePop       3\n",
       "COVID_perc         4\n",
       "white_perc         3\n",
       "black_perc         3\n",
       "native_perc        3\n",
       "asian_perc         3\n",
       "hawaii_perc        3\n",
       "other_perc         3\n",
       "two_plus_perc      3\n",
       "majorityWhite      0\n",
       "majorityBlack      0\n",
       "raciallyDiverse    0\n",
       "dtype: int64"
      ]
     },
     "execution_count": 4,
     "metadata": {},
     "output_type": "execute_result"
    }
   ],
   "source": [
    "# make sure there's no missing data\n",
    "df.isnull().any()\n",
    "\n",
    "df.isnull().sum()"
   ]
  },
  {
   "cell_type": "markdown",
   "metadata": {},
   "source": [
    "Looks like there are a few rows, omit for now. Shouldn't have a significant effect"
   ]
  },
  {
   "cell_type": "code",
   "execution_count": 5,
   "metadata": {},
   "outputs": [
    {
     "data": {
      "text/plain": [
       "Zip Code           False\n",
       "Confirmed Cases    False\n",
       "ZIP                False\n",
       "PlaceName          False\n",
       "BINGE              False\n",
       "CSMOKING           False\n",
       "LPA                False\n",
       "OBESITY            False\n",
       "SLEEP              False\n",
       "ARTHRITIS          False\n",
       "CASTHMA            False\n",
       "BPHIGH             False\n",
       "CANCER             False\n",
       "HIGHCHOL           False\n",
       "KIDNEY             False\n",
       "COPD               False\n",
       "CHD                False\n",
       "DIABETES           False\n",
       "MHLTH              False\n",
       "PHLTH              False\n",
       "TEETHLOST          False\n",
       "STROKE             False\n",
       "ACCESS2            False\n",
       "CHECKUP            False\n",
       "DENTAL             False\n",
       "BPMED              False\n",
       "CHOLSCREEN         False\n",
       "MAMMOUSE           False\n",
       "PAPTEST            False\n",
       "COLON_SCREEN       False\n",
       "COREM              False\n",
       "COREW              False\n",
       "totalPop           False\n",
       "whiteAlonePop      False\n",
       "blackAlonePop      False\n",
       "nativeAlonePop     False\n",
       "asianAlonePop      False\n",
       "hawaiiAlonePop     False\n",
       "otherAlonePop      False\n",
       "twoOrMorePop       False\n",
       "COVID_perc         False\n",
       "white_perc         False\n",
       "black_perc         False\n",
       "native_perc        False\n",
       "asian_perc         False\n",
       "hawaii_perc        False\n",
       "other_perc         False\n",
       "two_plus_perc      False\n",
       "majorityWhite      False\n",
       "majorityBlack      False\n",
       "raciallyDiverse    False\n",
       "dtype: bool"
      ]
     },
     "execution_count": 5,
     "metadata": {},
     "output_type": "execute_result"
    }
   ],
   "source": [
    "df = df.dropna().reset_index(drop=True)\n",
    "\n",
    "df.isnull().any()\n",
    "\n",
    "    "
   ]
  },
  {
   "cell_type": "code",
   "execution_count": 6,
   "metadata": {},
   "outputs": [],
   "source": [
    "# convert confirmed cases strings to numbers\n",
    "df['Confirmed Cases']= df['Confirmed Cases'].str.replace(',','')\n",
    "df['Confirmed Cases'] = df['Confirmed Cases'].astype(int)\n"
   ]
  },
  {
   "cell_type": "code",
   "execution_count": 7,
   "metadata": {},
   "outputs": [],
   "source": [
    "# isolate x and y data\n",
    "x = df.iloc[:,4:-3]\n",
    "y = df[['majorityWhite','majorityBlack','raciallyDiverse']]\n",
    "\n",
    "# scale x data\n",
    "scaledX=  pd.DataFrame(MinMaxScaler().fit_transform(x), columns=list(x))\n",
    "\n",
    "# add zip codes back to x data\n",
    "scaledX['ZIP'] = df['ZIP'].copy()\n"
   ]
  },
  {
   "cell_type": "code",
   "execution_count": 8,
   "metadata": {},
   "outputs": [
    {
     "data": {
      "image/png": "[encoded data removed]",
      "text/plain": [
       "<Figure size 432x288 with 45 Axes>"
      ]
     },
     "metadata": {
      "needs_background": "light"
     },
     "output_type": "display_data"
    }
   ],
   "source": [
    "# visualize x data\n",
    "\n",
    "for colNum, colName in enumerate(list(scaledX)):\n",
    "    plt.subplot(5,9, colNum+1)\n",
    "    plt.hist(scaledX[colName])"
   ]
  },
  {
   "cell_type": "code",
   "execution_count": 9,
   "metadata": {},
   "outputs": [
    {
     "data": {
      "text/plain": [
       "<matplotlib.legend.Legend at 0x1a844270f88>"
      ]
     },
     "execution_count": 9,
     "metadata": {},
     "output_type": "execute_result"
    },
    {
     "data": {
      "image/png": "[encoded data removed]",
      "text/plain": [
       "<Figure size 432x288 with 1 Axes>"
      ]
     },
     "metadata": {
      "needs_background": "light"
     },
     "output_type": "display_data"
    },
    {
     "data": {
      "image/png": "[encoded data removed]",
      "text/plain": [
       "<Figure size 432x288 with 1 Axes>"
      ]
     },
     "metadata": {
      "needs_background": "light"
     },
     "output_type": "display_data"
    },
    {
     "data": {
      "image/png": "[encoded data removed]",
      "text/plain": [
       "<Figure size 432x288 with 1 Axes>"
      ]
     },
     "metadata": {
      "needs_background": "light"
     },
     "output_type": "display_data"
    }
   ],
   "source": [
    "# want to see if racial diversity influences coronavirus cases\n",
    "plt.figure()\n",
    "plt.hist(scaledX.loc[y['raciallyDiverse']==0,'COVID_perc'], alpha=0.7, bins=[0, .025, .05, .075, .1, .125, .15, .175, .2, .25, .5, 1], label='Racially Uniform')\n",
    "plt.hist(scaledX.loc[y['raciallyDiverse']==1,'COVID_perc'], alpha=0.7, bins=[0, .025, .05, .075, .1, .125, .15, .175, .2, .25, .5, 1], label='Racially Diverse')\n",
    "plt.title('Racially Diverse versus COVID rates')\n",
    "plt.xlabel('COVID_perc')\n",
    "plt.ylabel('Frequency')\n",
    "plt.legend()\n",
    "\n",
    "\n",
    "plt.figure()\n",
    "plt.hist(scaledX.loc[y['majorityWhite']==0,'COVID_perc'], alpha=0.7, bins=[0, .025, .05, .075, .1, .125, .15, .175, .2, .25, .5, 1], label='Majority Not White')\n",
    "plt.hist(scaledX.loc[y['majorityWhite']==1,'COVID_perc'], alpha=0.7, bins=[0, .025, .05, .075, .1, .125, .15, .175, .2, .25, .5, 1], label='Majority White')\n",
    "plt.title('Majority White versus COVID rates')\n",
    "plt.xlabel('COVID_perc')\n",
    "plt.ylabel('Frequency')\n",
    "plt.legend()\n",
    "\n",
    "\n",
    "plt.figure()\n",
    "plt.hist(scaledX.loc[y['majorityBlack']==0,'COVID_perc'], alpha=0.7, bins=[0, .025, .05, .075, .1, .125, .15, .175, .2, .25, .5, 1], label='Majority Not Black')\n",
    "plt.hist(scaledX.loc[y['majorityBlack']==1,'COVID_perc'], alpha=0.7, bins=[0, .025, .05, .075, .1, .125, .15, .175, .2, .25, .5, 1], label='Majority Black')\n",
    "plt.title('Majority Black versus COVID rates')\n",
    "plt.xlabel('COVID_perc')\n",
    "plt.ylabel('Frequency')\n",
    "plt.legend()\n",
    "\n"
   ]
  },
  {
   "cell_type": "markdown",
   "metadata": {},
   "source": [
    "Unfortunately for our project, and fortunately for the people living in the zip codes we're investigating, there isn't a clear difference in COVID rates between racially uniform/racially diverse zip codes."
   ]
  },
  {
   "cell_type": "code",
   "execution_count": null,
   "metadata": {},
   "outputs": [],
   "source": []
  },
  {
   "cell_type": "code",
   "execution_count": null,
   "metadata": {},
   "outputs": [],
   "source": []
  },
  {
   "cell_type": "code",
   "execution_count": null,
   "metadata": {},
   "outputs": [],
   "source": []
  }
 ],
 "metadata": {
  "kernelspec": {
   "display_name": "Python 3",
   "language": "python",
   "name": "python3"
  },
  "language_info": {
   "codemirror_mode": {
    "name": "ipython",
    "version": 3
   },
   "file_extension": ".py",
   "mimetype": "text/x-python",
   "name": "python",
   "nbconvert_exporter": "python",
   "pygments_lexer": "ipython3",
   "version": "3.7.4"
  }
 },
 "nbformat": 4,
 "nbformat_minor": 2
}
